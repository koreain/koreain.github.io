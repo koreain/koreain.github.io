{
 "cells": [
  {
   "cell_type": "markdown",
   "metadata": {},
   "source": [
    "---\n",
    "title: \"Reinforcement Learning 01\"\n",
    "excerpt: \"강화학습 개념 공부\"\n",
    "toc: true\n",
    "toc_stick: true\n",
    "categories:\n",
    "  - RL\n",
    "tags:\n",
    "  - 기계학습\n",
    "  - 강화학습\n",
    "---\n",
    "\n",
    "# Reinforcement Learning\n",
    "---"
   ]
  }
 ],
 "metadata": {
  "kernelspec": {
   "display_name": "Python 3",
   "language": "python",
   "name": "python3"
  },
  "language_info": {
   "codemirror_mode": {
    "name": "ipython",
    "version": 3
   },
   "file_extension": ".py",
   "mimetype": "text/x-python",
   "name": "python",
   "nbconvert_exporter": "python",
   "pygments_lexer": "ipython3",
   "version": "3.8.5"
  }
 },
 "nbformat": 4,
 "nbformat_minor": 4
}
